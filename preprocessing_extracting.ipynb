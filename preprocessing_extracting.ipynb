{
 "cells": [
  {
   "cell_type": "markdown",
   "id": "90ef89f4",
   "metadata": {},
   "source": [
    "# 1. Load data"
   ]
  },
  {
   "cell_type": "code",
   "execution_count": 1,
   "id": "cf74a684",
   "metadata": {},
   "outputs": [],
   "source": [
    "import pandas as pd\n",
    "\n",
    "train = pd.read_csv('data/train.csv')\n",
    "valid = pd.read_csv('data/valid.csv')\n",
    "test = pd.read_csv('data/test.csv')"
   ]
  },
  {
   "cell_type": "markdown",
   "id": "faf23c2b",
   "metadata": {},
   "source": [
    "# 2. Data preprocessing"
   ]
  },
  {
   "cell_type": "markdown",
   "id": "3b3eecd8",
   "metadata": {},
   "source": [
    "load vncorenlp"
   ]
  },
  {
   "cell_type": "code",
   "execution_count": 2,
   "id": "f2d0a30d",
   "metadata": {},
   "outputs": [],
   "source": [
    "from vncorenlp import VnCoreNLP\n",
    "\n",
    "rdrsegmenter = VnCoreNLP(\"VnCoreNLP/VnCoreNLP-1.1.1.jar\", annotators=\"wseg,pos,ner\", max_heap_size='-Xmx2g')"
   ]
  },
  {
   "cell_type": "markdown",
   "id": "f742b73d",
   "metadata": {},
   "source": [
    "load stopwords"
   ]
  },
  {
   "cell_type": "code",
   "execution_count": 3,
   "id": "343518ba",
   "metadata": {},
   "outputs": [],
   "source": [
    "with open(\"data/stopwords.txt\", encoding='utf-8') as f:\n",
    "    stopwords = {line.strip().lower() for line in f if line.strip()}"
   ]
  },
  {
   "cell_type": "markdown",
   "id": "fb70c8af",
   "metadata": {},
   "source": [
    "Tiền xử lý"
   ]
  },
  {
   "cell_type": "code",
   "execution_count": 4,
   "id": "4206ecb9",
   "metadata": {},
   "outputs": [],
   "source": [
    "import re\n",
    "from itertools import chain\n",
    "\n",
    "def preprocessing(sentence):\n",
    "    # Loại bỏ emoji và một số kí tự khác\n",
    "    s = re.sub(r'[^\\w\\s.,!?]|_', '', str(sentence))\n",
    "\n",
    "    # Loại bỏ khoảng trắng đầu và cuối\n",
    "    if not s.strip():\n",
    "        return []\n",
    "\n",
    "    s = s.strip()\n",
    "\n",
    "    # NER và chuyển về chữ thường, loại bỏ stopwords\n",
    "    tagged = rdrsegmenter.ner(s)\n",
    "    tagged = list(chain.from_iterable(tagged))\n",
    "\n",
    "    output = []\n",
    "    for word, tag in tagged:\n",
    "        if word.lower() in stopwords:\n",
    "            continue\n",
    "\n",
    "        if tag != 'O':\n",
    "            output.append(f'<{tag}>')\n",
    "        else:\n",
    "            output.append(word.lower())\n",
    "    \n",
    "    return output"
   ]
  },
  {
   "cell_type": "markdown",
   "id": "0d888f85",
   "metadata": {},
   "source": [
    "# 3. TF-IDF"
   ]
  },
  {
   "cell_type": "code",
   "execution_count": 4,
   "id": "ed1d5096",
   "metadata": {},
   "outputs": [],
   "source": [
    "from sklearn.feature_extraction.text import TfidfVectorizer\n",
    "\n",
    "tfidf = TfidfVectorizer(\n",
    "    tokenizer=preprocessing,\n",
    "    token_pattern=None\n",
    ")"
   ]
  },
  {
   "cell_type": "markdown",
   "id": "23f7cdd1",
   "metadata": {},
   "source": [
    "Hiển thị thanh tiến trình để theo dõi"
   ]
  },
  {
   "cell_type": "code",
   "execution_count": 7,
   "id": "86e3585a",
   "metadata": {},
   "outputs": [
    {
     "name": "stderr",
     "output_type": "stream",
     "text": [
      "100%|██████████| 46774/46774 [11:46<00:00, 66.17it/s] \n",
      "100%|██████████| 8065/8065 [01:56<00:00, 69.13it/s]\n",
      "100%|██████████| 11760/11760 [02:40<00:00, 73.50it/s]\n"
     ]
    }
   ],
   "source": [
    "from tqdm import tqdm\n",
    "\n",
    "x_train = tfidf.fit_transform(tqdm(train['content']))\n",
    "x_valid = tfidf.transform(tqdm(valid['content']))\n",
    "x_test = tfidf.transform(tqdm(test['content']))"
   ]
  },
  {
   "cell_type": "code",
   "execution_count": 30,
   "id": "a52333dd",
   "metadata": {},
   "outputs": [
    {
     "data": {
      "text/plain": [
       "(46774, 24235)"
      ]
     },
     "execution_count": 30,
     "metadata": {},
     "output_type": "execute_result"
    }
   ],
   "source": [
    "x_train.shape"
   ]
  },
  {
   "cell_type": "markdown",
   "id": "740f7d79",
   "metadata": {},
   "source": [
    "Lưu lại TF-IDF vectorizer để transform dữ liệu mới"
   ]
  },
  {
   "cell_type": "code",
   "execution_count": 9,
   "id": "21ae640c",
   "metadata": {},
   "outputs": [],
   "source": [
    "import pickle\n",
    "\n",
    "with open('embedding_models/tfidf.pkl', 'wb') as f:\n",
    "    pickle.dump(tfidf, f)"
   ]
  },
  {
   "cell_type": "markdown",
   "id": "2ed1b4cd",
   "metadata": {},
   "source": [
    "Lưu vector"
   ]
  },
  {
   "cell_type": "code",
   "execution_count": 16,
   "id": "3d24bf35",
   "metadata": {},
   "outputs": [],
   "source": [
    "from spicy import sparse\n",
    "\n",
    "sparse.save_npz('embedded/tfidf/train.npz', x_train)\n",
    "sparse.save_npz('embedded/tfidf/valid.npz', x_valid)\n",
    "sparse.save_npz('embedded/tfidf/test.npz', x_test)"
   ]
  },
  {
   "cell_type": "markdown",
   "id": "551c4e2f",
   "metadata": {},
   "source": [
    "# 4. Bag of Words"
   ]
  },
  {
   "cell_type": "code",
   "execution_count": null,
   "id": "fb215bcf",
   "metadata": {},
   "outputs": [],
   "source": [
    "from sklearn.feature_extraction.text import CountVectorizer\n",
    "\n",
    "bow = CountVectorizer(\n",
    "    tokenizer=preprocessing,\n",
    "    token_pattern=None\n",
    ")"
   ]
  },
  {
   "cell_type": "code",
   "execution_count": 26,
   "id": "fbb0d062",
   "metadata": {},
   "outputs": [
    {
     "name": "stderr",
     "output_type": "stream",
     "text": [
      "100%|██████████| 46774/46774 [18:27<00:00, 42.23it/s]\n",
      "100%|██████████| 8065/8065 [03:13<00:00, 41.78it/s]\n",
      "100%|██████████| 11760/11760 [04:07<00:00, 47.54it/s]\n"
     ]
    }
   ],
   "source": [
    "from tqdm import tqdm\n",
    "\n",
    "x_train = bow.fit_transform(tqdm(train['content']))\n",
    "x_valid = bow.transform(tqdm(valid['content']))\n",
    "x_test = bow.transform(tqdm(test['content']))"
   ]
  },
  {
   "cell_type": "markdown",
   "id": "439cfab8",
   "metadata": {},
   "source": [
    "Lưu lại BoW vectorizer để transform dữ liệu mới"
   ]
  },
  {
   "cell_type": "code",
   "execution_count": 27,
   "id": "06bb454f",
   "metadata": {},
   "outputs": [],
   "source": [
    "import pickle\n",
    "\n",
    "with open('embedding_models/bow.pkl', 'wb') as f:\n",
    "    pickle.dump(bow, f)"
   ]
  },
  {
   "cell_type": "markdown",
   "id": "1bbb1782",
   "metadata": {},
   "source": [
    "Lưu vector"
   ]
  },
  {
   "cell_type": "code",
   "execution_count": 28,
   "id": "8dccb6c1",
   "metadata": {},
   "outputs": [],
   "source": [
    "from spicy import sparse\n",
    "\n",
    "sparse.save_npz('embedded/bow/train.npz', x_train)\n",
    "sparse.save_npz('embedded/bow/valid.npz', x_valid)\n",
    "sparse.save_npz('embedded/bow/test.npz', x_test)"
   ]
  },
  {
   "cell_type": "markdown",
   "id": "f2c048ec",
   "metadata": {},
   "source": [
    "# 5. multilingual-e5-large"
   ]
  },
  {
   "cell_type": "markdown",
   "id": "2aed0267",
   "metadata": {},
   "source": [
    "Link: https://huggingface.co/intfloat/multilingual-e5-large"
   ]
  },
  {
   "cell_type": "code",
   "execution_count": null,
   "id": "84037a7e",
   "metadata": {},
   "outputs": [],
   "source": [
    "from sentence_transformers import SentenceTransformer\n",
    "\n",
    "model_finetuned = SentenceTransformer('intfloat/multilingual-e5-large')"
   ]
  },
  {
   "cell_type": "code",
   "execution_count": null,
   "id": "3c588043",
   "metadata": {},
   "outputs": [],
   "source": [
    "x_train = model_finetuned.encode(\n",
    "    train[\"content\"].tolist(),\n",
    "    show_progress_bar=True\n",
    ")\n",
    "\n",
    "x_valid = model_finetuned.encode(\n",
    "    valid[\"content\"].tolist(),\n",
    "    show_progress_bar=True\n",
    ")\n",
    "\n",
    "x_test = model_finetuned.encode(\n",
    "    train[\"content\"].tolist(),\n",
    "    show_progress_bar=True\n",
    ")"
   ]
  },
  {
   "cell_type": "code",
   "execution_count": null,
   "id": "29eec416",
   "metadata": {},
   "outputs": [],
   "source": [
    "import numpy as np\n",
    "\n",
    "np.save('multilingual-e5-large/train.npy', x_train)\n",
    "np.save('multilingual-e5-large/valid.npy', x_valid)\n",
    "np.save('multilingual-e5-large/test.npy', x_test)"
   ]
  }
 ],
 "metadata": {
  "kernelspec": {
   "display_name": "Python 3",
   "language": "python",
   "name": "python3"
  },
  "language_info": {
   "codemirror_mode": {
    "name": "ipython",
    "version": 3
   },
   "file_extension": ".py",
   "mimetype": "text/x-python",
   "name": "python",
   "nbconvert_exporter": "python",
   "pygments_lexer": "ipython3",
   "version": "3.10.11"
  }
 },
 "nbformat": 4,
 "nbformat_minor": 5
}
