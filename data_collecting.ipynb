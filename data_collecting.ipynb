{
 "cells": [
  {
   "cell_type": "markdown",
   "id": "708ac69f",
   "metadata": {},
   "source": [
    "# 1. Load vitshd"
   ]
  },
  {
   "cell_type": "code",
   "execution_count": 67,
   "id": "6929b4e3",
   "metadata": {},
   "outputs": [],
   "source": [
    "from datasets import load_dataset\n",
    "\n",
    "# Login using e.g. `huggingface-cli login` to access this dataset\n",
    "ds1 = load_dataset(\"sonlam1102/vithsd\")"
   ]
  },
  {
   "cell_type": "code",
   "execution_count": 68,
   "id": "65d0e8b7",
   "metadata": {},
   "outputs": [],
   "source": [
    "train1, test1, valid1 = ds1['train'].to_pandas(), ds1['test'].to_pandas(), ds1['validation'].to_pandas()"
   ]
  },
  {
   "cell_type": "code",
   "execution_count": 189,
   "id": "c77960e0",
   "metadata": {},
   "outputs": [
    {
     "data": {
      "text/plain": [
       "(7000, 1201, 1799)"
      ]
     },
     "execution_count": 189,
     "metadata": {},
     "output_type": "execute_result"
    }
   ],
   "source": [
    "train1.shape[0], valid1.shape[0], test1.shape[0]"
   ]
  },
  {
   "cell_type": "markdown",
   "id": "411f2719",
   "metadata": {},
   "source": [
    "## 1.1. Data exploration"
   ]
  },
  {
   "cell_type": "code",
   "execution_count": 69,
   "id": "9c5b8b02",
   "metadata": {},
   "outputs": [
    {
     "data": {
      "text/html": [
       "<div>\n",
       "<style scoped>\n",
       "    .dataframe tbody tr th:only-of-type {\n",
       "        vertical-align: middle;\n",
       "    }\n",
       "\n",
       "    .dataframe tbody tr th {\n",
       "        vertical-align: top;\n",
       "    }\n",
       "\n",
       "    .dataframe thead th {\n",
       "        text-align: right;\n",
       "    }\n",
       "</style>\n",
       "<table border=\"1\" class=\"dataframe\">\n",
       "  <thead>\n",
       "    <tr style=\"text-align: right;\">\n",
       "      <th></th>\n",
       "      <th>Unnamed: 0</th>\n",
       "      <th>content</th>\n",
       "      <th>individual</th>\n",
       "      <th>groups</th>\n",
       "      <th>religion/creed</th>\n",
       "      <th>race/ethnicity</th>\n",
       "      <th>politics</th>\n",
       "    </tr>\n",
       "  </thead>\n",
       "  <tbody>\n",
       "    <tr>\n",
       "      <th>0</th>\n",
       "      <td>5943</td>\n",
       "      <td>Chào nhà báo vũ hoàng Lân. Chào danh hài vũ tr...</td>\n",
       "      <td>2</td>\n",
       "      <td>1</td>\n",
       "      <td>0</td>\n",
       "      <td>0</td>\n",
       "      <td>0</td>\n",
       "    </tr>\n",
       "    <tr>\n",
       "      <th>1</th>\n",
       "      <td>6384</td>\n",
       "      <td>Anh Thi nào đi đăng ký rủ anh nhé.</td>\n",
       "      <td>1</td>\n",
       "      <td>0</td>\n",
       "      <td>0</td>\n",
       "      <td>0</td>\n",
       "      <td>0</td>\n",
       "    </tr>\n",
       "    <tr>\n",
       "      <th>2</th>\n",
       "      <td>1057</td>\n",
       "      <td>ở mỹ ns cái lồn gì k đc</td>\n",
       "      <td>0</td>\n",
       "      <td>0</td>\n",
       "      <td>0</td>\n",
       "      <td>1</td>\n",
       "      <td>0</td>\n",
       "    </tr>\n",
       "    <tr>\n",
       "      <th>3</th>\n",
       "      <td>5258</td>\n",
       "      <td>Thôn làm vậy là do thôn lầm, thôn lầm nên dân ...</td>\n",
       "      <td>0</td>\n",
       "      <td>0</td>\n",
       "      <td>0</td>\n",
       "      <td>0</td>\n",
       "      <td>0</td>\n",
       "    </tr>\n",
       "    <tr>\n",
       "      <th>4</th>\n",
       "      <td>7113</td>\n",
       "      <td>Phạm Văn Lộc fuho trời nắng chóng mặt hả idol</td>\n",
       "      <td>1</td>\n",
       "      <td>0</td>\n",
       "      <td>0</td>\n",
       "      <td>0</td>\n",
       "      <td>0</td>\n",
       "    </tr>\n",
       "  </tbody>\n",
       "</table>\n",
       "</div>"
      ],
      "text/plain": [
       "   Unnamed: 0                                            content  individual  \\\n",
       "0        5943  Chào nhà báo vũ hoàng Lân. Chào danh hài vũ tr...           2   \n",
       "1        6384                 Anh Thi nào đi đăng ký rủ anh nhé.           1   \n",
       "2        1057                            ở mỹ ns cái lồn gì k đc           0   \n",
       "3        5258  Thôn làm vậy là do thôn lầm, thôn lầm nên dân ...           0   \n",
       "4        7113      Phạm Văn Lộc fuho trời nắng chóng mặt hả idol           1   \n",
       "\n",
       "   groups  religion/creed  race/ethnicity  politics  \n",
       "0       1               0               0         0  \n",
       "1       0               0               0         0  \n",
       "2       0               0               1         0  \n",
       "3       0               0               0         0  \n",
       "4       0               0               0         0  "
      ]
     },
     "execution_count": 69,
     "metadata": {},
     "output_type": "execute_result"
    }
   ],
   "source": [
    "train1.head()"
   ]
  },
  {
   "cell_type": "code",
   "execution_count": 70,
   "id": "0d321269",
   "metadata": {},
   "outputs": [
    {
     "data": {
      "text/plain": [
       "(False, False, True)"
      ]
     },
     "execution_count": 70,
     "metadata": {},
     "output_type": "execute_result"
    }
   ],
   "source": [
    "import pandas as pd\n",
    "\n",
    "def check_na(df: pd.DataFrame):\n",
    "    return df.isna().sum().apply(lambda x: x > 0).any()\n",
    "\n",
    "check_na(train1), check_na(valid1), check_na(test1)"
   ]
  },
  {
   "cell_type": "code",
   "execution_count": 73,
   "id": "fba4ee14",
   "metadata": {},
   "outputs": [
    {
     "name": "stdout",
     "output_type": "stream",
     "text": [
      "Unnamed: 0        0\n",
      "content           1\n",
      "individual        0\n",
      "groups            0\n",
      "religion/creed    0\n",
      "race/ethnicity    0\n",
      "politics          0\n",
      "dtype: int64\n"
     ]
    }
   ],
   "source": [
    "print(test1.isna().sum())"
   ]
  },
  {
   "cell_type": "code",
   "execution_count": 74,
   "id": "e84425fd",
   "metadata": {},
   "outputs": [],
   "source": [
    "test1 = test1.dropna()"
   ]
  },
  {
   "cell_type": "code",
   "execution_count": 75,
   "id": "8635a771",
   "metadata": {},
   "outputs": [],
   "source": [
    "def percent_label_stats(df: pd.DataFrame):\n",
    "    categorical_fields = df.drop(columns=['content', 'Unnamed: 0'])\n",
    "    categorical_fields.apply(pd.Series.value_counts)\n",
    "\n",
    "    return categorical_fields.apply(lambda x: x.value_counts(normalize=True)) * 100"
   ]
  },
  {
   "cell_type": "code",
   "execution_count": 76,
   "id": "e19809d3",
   "metadata": {},
   "outputs": [
    {
     "data": {
      "text/html": [
       "<div>\n",
       "<style scoped>\n",
       "    .dataframe tbody tr th:only-of-type {\n",
       "        vertical-align: middle;\n",
       "    }\n",
       "\n",
       "    .dataframe tbody tr th {\n",
       "        vertical-align: top;\n",
       "    }\n",
       "\n",
       "    .dataframe thead th {\n",
       "        text-align: right;\n",
       "    }\n",
       "</style>\n",
       "<table border=\"1\" class=\"dataframe\">\n",
       "  <thead>\n",
       "    <tr style=\"text-align: right;\">\n",
       "      <th></th>\n",
       "      <th>individual</th>\n",
       "      <th>groups</th>\n",
       "      <th>religion/creed</th>\n",
       "      <th>race/ethnicity</th>\n",
       "      <th>politics</th>\n",
       "    </tr>\n",
       "  </thead>\n",
       "  <tbody>\n",
       "    <tr>\n",
       "      <th>0</th>\n",
       "      <td>21.714286</td>\n",
       "      <td>57.471429</td>\n",
       "      <td>99.657143</td>\n",
       "      <td>92.828571</td>\n",
       "      <td>94.814286</td>\n",
       "    </tr>\n",
       "    <tr>\n",
       "      <th>1</th>\n",
       "      <td>35.428571</td>\n",
       "      <td>20.085714</td>\n",
       "      <td>0.114286</td>\n",
       "      <td>1.714286</td>\n",
       "      <td>0.528571</td>\n",
       "    </tr>\n",
       "    <tr>\n",
       "      <th>2</th>\n",
       "      <td>16.700000</td>\n",
       "      <td>9.128571</td>\n",
       "      <td>0.114286</td>\n",
       "      <td>2.328571</td>\n",
       "      <td>1.157143</td>\n",
       "    </tr>\n",
       "    <tr>\n",
       "      <th>3</th>\n",
       "      <td>26.157143</td>\n",
       "      <td>13.314286</td>\n",
       "      <td>0.114286</td>\n",
       "      <td>3.128571</td>\n",
       "      <td>3.500000</td>\n",
       "    </tr>\n",
       "  </tbody>\n",
       "</table>\n",
       "</div>"
      ],
      "text/plain": [
       "   individual     groups  religion/creed  race/ethnicity   politics\n",
       "0   21.714286  57.471429       99.657143       92.828571  94.814286\n",
       "1   35.428571  20.085714        0.114286        1.714286   0.528571\n",
       "2   16.700000   9.128571        0.114286        2.328571   1.157143\n",
       "3   26.157143  13.314286        0.114286        3.128571   3.500000"
      ]
     },
     "execution_count": 76,
     "metadata": {},
     "output_type": "execute_result"
    }
   ],
   "source": [
    "percent_label_stats(train1)"
   ]
  },
  {
   "cell_type": "code",
   "execution_count": 78,
   "id": "ffb75f35",
   "metadata": {},
   "outputs": [
    {
     "data": {
      "text/html": [
       "<div>\n",
       "<style scoped>\n",
       "    .dataframe tbody tr th:only-of-type {\n",
       "        vertical-align: middle;\n",
       "    }\n",
       "\n",
       "    .dataframe tbody tr th {\n",
       "        vertical-align: top;\n",
       "    }\n",
       "\n",
       "    .dataframe thead th {\n",
       "        text-align: right;\n",
       "    }\n",
       "</style>\n",
       "<table border=\"1\" class=\"dataframe\">\n",
       "  <thead>\n",
       "    <tr style=\"text-align: right;\">\n",
       "      <th></th>\n",
       "      <th>individual</th>\n",
       "      <th>groups</th>\n",
       "      <th>religion/creed</th>\n",
       "      <th>race/ethnicity</th>\n",
       "      <th>politics</th>\n",
       "    </tr>\n",
       "  </thead>\n",
       "  <tbody>\n",
       "    <tr>\n",
       "      <th>0</th>\n",
       "      <td>21.898418</td>\n",
       "      <td>56.952540</td>\n",
       "      <td>99.333888</td>\n",
       "      <td>93.838468</td>\n",
       "      <td>95.253955</td>\n",
       "    </tr>\n",
       "    <tr>\n",
       "      <th>1</th>\n",
       "      <td>37.801832</td>\n",
       "      <td>22.148210</td>\n",
       "      <td>0.499584</td>\n",
       "      <td>1.248959</td>\n",
       "      <td>0.333056</td>\n",
       "    </tr>\n",
       "    <tr>\n",
       "      <th>2</th>\n",
       "      <td>15.736886</td>\n",
       "      <td>7.993339</td>\n",
       "      <td>0.083264</td>\n",
       "      <td>1.998335</td>\n",
       "      <td>0.915903</td>\n",
       "    </tr>\n",
       "    <tr>\n",
       "      <th>3</th>\n",
       "      <td>24.562864</td>\n",
       "      <td>12.905912</td>\n",
       "      <td>0.083264</td>\n",
       "      <td>2.914238</td>\n",
       "      <td>3.497086</td>\n",
       "    </tr>\n",
       "  </tbody>\n",
       "</table>\n",
       "</div>"
      ],
      "text/plain": [
       "   individual     groups  religion/creed  race/ethnicity   politics\n",
       "0   21.898418  56.952540       99.333888       93.838468  95.253955\n",
       "1   37.801832  22.148210        0.499584        1.248959   0.333056\n",
       "2   15.736886   7.993339        0.083264        1.998335   0.915903\n",
       "3   24.562864  12.905912        0.083264        2.914238   3.497086"
      ]
     },
     "execution_count": 78,
     "metadata": {},
     "output_type": "execute_result"
    }
   ],
   "source": [
    "percent_label_stats(valid1)"
   ]
  },
  {
   "cell_type": "code",
   "execution_count": 77,
   "id": "35dde45b",
   "metadata": {},
   "outputs": [
    {
     "data": {
      "text/html": [
       "<div>\n",
       "<style scoped>\n",
       "    .dataframe tbody tr th:only-of-type {\n",
       "        vertical-align: middle;\n",
       "    }\n",
       "\n",
       "    .dataframe tbody tr th {\n",
       "        vertical-align: top;\n",
       "    }\n",
       "\n",
       "    .dataframe thead th {\n",
       "        text-align: right;\n",
       "    }\n",
       "</style>\n",
       "<table border=\"1\" class=\"dataframe\">\n",
       "  <thead>\n",
       "    <tr style=\"text-align: right;\">\n",
       "      <th></th>\n",
       "      <th>individual</th>\n",
       "      <th>groups</th>\n",
       "      <th>religion/creed</th>\n",
       "      <th>race/ethnicity</th>\n",
       "      <th>politics</th>\n",
       "    </tr>\n",
       "  </thead>\n",
       "  <tbody>\n",
       "    <tr>\n",
       "      <th>0</th>\n",
       "      <td>22.290161</td>\n",
       "      <td>57.254030</td>\n",
       "      <td>99.666481</td>\n",
       "      <td>92.829350</td>\n",
       "      <td>95.052807</td>\n",
       "    </tr>\n",
       "    <tr>\n",
       "      <th>1</th>\n",
       "      <td>34.352418</td>\n",
       "      <td>19.788772</td>\n",
       "      <td>0.166759</td>\n",
       "      <td>2.223457</td>\n",
       "      <td>0.555864</td>\n",
       "    </tr>\n",
       "    <tr>\n",
       "      <th>2</th>\n",
       "      <td>18.010006</td>\n",
       "      <td>10.283491</td>\n",
       "      <td>0.111173</td>\n",
       "      <td>1.889939</td>\n",
       "      <td>1.167315</td>\n",
       "    </tr>\n",
       "    <tr>\n",
       "      <th>3</th>\n",
       "      <td>25.347415</td>\n",
       "      <td>12.673708</td>\n",
       "      <td>0.055586</td>\n",
       "      <td>3.057254</td>\n",
       "      <td>3.224013</td>\n",
       "    </tr>\n",
       "  </tbody>\n",
       "</table>\n",
       "</div>"
      ],
      "text/plain": [
       "   individual     groups  religion/creed  race/ethnicity   politics\n",
       "0   22.290161  57.254030       99.666481       92.829350  95.052807\n",
       "1   34.352418  19.788772        0.166759        2.223457   0.555864\n",
       "2   18.010006  10.283491        0.111173        1.889939   1.167315\n",
       "3   25.347415  12.673708        0.055586        3.057254   3.224013"
      ]
     },
     "execution_count": 77,
     "metadata": {},
     "output_type": "execute_result"
    }
   ],
   "source": [
    "percent_label_stats(test1)"
   ]
  },
  {
   "cell_type": "markdown",
   "id": "e0817e81",
   "metadata": {},
   "source": [
    "## 1.2. Labeling 0 / 1"
   ]
  },
  {
   "cell_type": "code",
   "execution_count": 82,
   "id": "034f82f0",
   "metadata": {},
   "outputs": [],
   "source": [
    "categorical_fields = train1.select_dtypes('int').drop(columns=['Unnamed: 0']).columns"
   ]
  },
  {
   "cell_type": "code",
   "execution_count": null,
   "id": "0e2f90c7",
   "metadata": {},
   "outputs": [
    {
     "data": {
      "text/plain": [
       "toxic\n",
       "1    3588\n",
       "0    3412\n",
       "Name: count, dtype: int64"
      ]
     },
     "execution_count": 83,
     "metadata": {},
     "output_type": "execute_result"
    }
   ],
   "source": [
    "train1['toxic'] = train1[categorical_fields].gt(1).any(axis=1).astype('int')\n",
    "\n",
    "train1.toxic.value_counts()"
   ]
  },
  {
   "cell_type": "code",
   "execution_count": 85,
   "id": "65ef95d0",
   "metadata": {},
   "outputs": [
    {
     "data": {
      "text/plain": [
       "toxic\n",
       "0    621\n",
       "1    580\n",
       "Name: count, dtype: int64"
      ]
     },
     "execution_count": 85,
     "metadata": {},
     "output_type": "execute_result"
    }
   ],
   "source": [
    "valid1['toxic'] = valid1[categorical_fields].gt(1).any(axis=1).astype('int')\n",
    "\n",
    "valid1.toxic.value_counts()"
   ]
  },
  {
   "cell_type": "code",
   "execution_count": 84,
   "id": "eb4d9d33",
   "metadata": {},
   "outputs": [
    {
     "data": {
      "text/plain": [
       "toxic\n",
       "1    934\n",
       "0    865\n",
       "Name: count, dtype: int64"
      ]
     },
     "execution_count": 84,
     "metadata": {},
     "output_type": "execute_result"
    }
   ],
   "source": [
    "test1['toxic'] = test1[categorical_fields].gt(1).any(axis=1).astype('int')\n",
    "\n",
    "test1.toxic.value_counts()"
   ]
  },
  {
   "cell_type": "markdown",
   "id": "d6e01876",
   "metadata": {},
   "source": [
    "## 1.3. Filtering"
   ]
  },
  {
   "cell_type": "code",
   "execution_count": 86,
   "id": "882cfbcb",
   "metadata": {},
   "outputs": [],
   "source": [
    "target_fields = ['content', 'toxic']"
   ]
  },
  {
   "cell_type": "code",
   "execution_count": 87,
   "id": "be8e57b3",
   "metadata": {},
   "outputs": [],
   "source": [
    "train1 = train1[target_fields]\n",
    "valid1 = valid1[target_fields]\n",
    "test1 = test1[target_fields]"
   ]
  },
  {
   "cell_type": "markdown",
   "id": "585c9cff",
   "metadata": {},
   "source": [
    "## 1.4. Saving"
   ]
  },
  {
   "cell_type": "code",
   "execution_count": 91,
   "id": "94b75c2c",
   "metadata": {},
   "outputs": [],
   "source": [
    "train1.to_csv('data/huggingface/vitshd/train.csv', index=False, mode='w')\n",
    "valid1.to_csv('data/huggingface/vitshd/valid.csv', index=False, mode='w')\n",
    "test1.to_csv('data/huggingface/vitshd/test.csv', index=False, mode='w')"
   ]
  },
  {
   "cell_type": "code",
   "execution_count": 177,
   "id": "ce40f9bc",
   "metadata": {},
   "outputs": [],
   "source": [
    "train1.to_csv('data/train.csv', index=False, mode='w')\n",
    "valid1.to_csv('data/valid.csv', index=False, mode='w')\n",
    "test1.to_csv('data/test.csv', index=False, mode='w')"
   ]
  },
  {
   "cell_type": "markdown",
   "id": "3ce220a5",
   "metadata": {},
   "source": [
    "# 2. Load ViCTSD"
   ]
  },
  {
   "cell_type": "code",
   "execution_count": 93,
   "id": "fa7ee847",
   "metadata": {},
   "outputs": [
    {
     "data": {
      "text/plain": [
       "((7000, 6), (1000, 6), (2000, 6))"
      ]
     },
     "execution_count": 93,
     "metadata": {},
     "output_type": "execute_result"
    }
   ],
   "source": [
    "from datasets import load_dataset\n",
    "ds2 = load_dataset(\"tarudesu/ViCTSD\")\n",
    "\n",
    "train2, test2, valid2 = ds2['train'].to_pandas(), ds2['test'].to_pandas(), ds2['validation'].to_pandas()\n",
    "\n",
    "train2.shape, test2.shape, valid2.shape"
   ]
  },
  {
   "cell_type": "markdown",
   "id": "2d25a1ae",
   "metadata": {},
   "source": [
    "## 2.1. Data exploration"
   ]
  },
  {
   "cell_type": "code",
   "execution_count": 94,
   "id": "b129d4e6",
   "metadata": {},
   "outputs": [
    {
     "data": {
      "text/html": [
       "<div>\n",
       "<style scoped>\n",
       "    .dataframe tbody tr th:only-of-type {\n",
       "        vertical-align: middle;\n",
       "    }\n",
       "\n",
       "    .dataframe tbody tr th {\n",
       "        vertical-align: top;\n",
       "    }\n",
       "\n",
       "    .dataframe thead th {\n",
       "        text-align: right;\n",
       "    }\n",
       "</style>\n",
       "<table border=\"1\" class=\"dataframe\">\n",
       "  <thead>\n",
       "    <tr style=\"text-align: right;\">\n",
       "      <th></th>\n",
       "      <th>Unnamed: 0</th>\n",
       "      <th>Comment</th>\n",
       "      <th>Constructiveness</th>\n",
       "      <th>Toxicity</th>\n",
       "      <th>Title</th>\n",
       "      <th>Topic</th>\n",
       "    </tr>\n",
       "  </thead>\n",
       "  <tbody>\n",
       "    <tr>\n",
       "      <th>0</th>\n",
       "      <td>6326</td>\n",
       "      <td>Thật tuyệt vời...!!!</td>\n",
       "      <td>0</td>\n",
       "      <td>0</td>\n",
       "      <td>Những 'bước tiến diệu kỳ' của Trúc Nhi - Diệu Nhi</td>\n",
       "      <td>SucKhoe</td>\n",
       "    </tr>\n",
       "    <tr>\n",
       "      <th>1</th>\n",
       "      <td>7835</td>\n",
       "      <td>mỹ đã tuột dốc quá nhiều rồi, giờ muốn vực dậy...</td>\n",
       "      <td>1</td>\n",
       "      <td>0</td>\n",
       "      <td>Hình tượng Mỹ sụp đổ trong lòng người dân thế ...</td>\n",
       "      <td>TheGioi</td>\n",
       "    </tr>\n",
       "    <tr>\n",
       "      <th>2</th>\n",
       "      <td>4690</td>\n",
       "      <td>tôi thấy người lái xe hơi bấm còi mới là người...</td>\n",
       "      <td>1</td>\n",
       "      <td>1</td>\n",
       "      <td>Cả trăm người đạp xe thể dục bịt kín đường</td>\n",
       "      <td>OtoXemay</td>\n",
       "    </tr>\n",
       "    <tr>\n",
       "      <th>3</th>\n",
       "      <td>6011</td>\n",
       "      <td>Coi dịch là giặc. Đã mang tên đó mà xâm nhập V...</td>\n",
       "      <td>0</td>\n",
       "      <td>0</td>\n",
       "      <td>11 ngày không lây nhiễm nCoV cộng đồng</td>\n",
       "      <td>SucKhoe</td>\n",
       "    </tr>\n",
       "    <tr>\n",
       "      <th>4</th>\n",
       "      <td>9303</td>\n",
       "      <td>Thương các bé quá! Các con còn quá nhỏ mà đã p...</td>\n",
       "      <td>0</td>\n",
       "      <td>0</td>\n",
       "      <td>5 trẻ chết đuối dưới ao</td>\n",
       "      <td>ThoiSu</td>\n",
       "    </tr>\n",
       "  </tbody>\n",
       "</table>\n",
       "</div>"
      ],
      "text/plain": [
       "   Unnamed: 0                                            Comment  \\\n",
       "0        6326                               Thật tuyệt vời...!!!   \n",
       "1        7835  mỹ đã tuột dốc quá nhiều rồi, giờ muốn vực dậy...   \n",
       "2        4690  tôi thấy người lái xe hơi bấm còi mới là người...   \n",
       "3        6011  Coi dịch là giặc. Đã mang tên đó mà xâm nhập V...   \n",
       "4        9303  Thương các bé quá! Các con còn quá nhỏ mà đã p...   \n",
       "\n",
       "   Constructiveness  Toxicity  \\\n",
       "0                 0         0   \n",
       "1                 1         0   \n",
       "2                 1         1   \n",
       "3                 0         0   \n",
       "4                 0         0   \n",
       "\n",
       "                                               Title     Topic  \n",
       "0  Những 'bước tiến diệu kỳ' của Trúc Nhi - Diệu Nhi   SucKhoe  \n",
       "1  Hình tượng Mỹ sụp đổ trong lòng người dân thế ...   TheGioi  \n",
       "2         Cả trăm người đạp xe thể dục bịt kín đường  OtoXemay  \n",
       "3             11 ngày không lây nhiễm nCoV cộng đồng   SucKhoe  \n",
       "4                            5 trẻ chết đuối dưới ao    ThoiSu  "
      ]
     },
     "execution_count": 94,
     "metadata": {},
     "output_type": "execute_result"
    }
   ],
   "source": [
    "train2.head()"
   ]
  },
  {
   "cell_type": "code",
   "execution_count": 95,
   "id": "cb4f0b45",
   "metadata": {},
   "outputs": [
    {
     "data": {
      "text/plain": [
       "(False, False, False)"
      ]
     },
     "execution_count": 95,
     "metadata": {},
     "output_type": "execute_result"
    }
   ],
   "source": [
    "check_na(train2), check_na(valid2), check_na(test2)"
   ]
  },
  {
   "cell_type": "code",
   "execution_count": 96,
   "id": "c084f1b9",
   "metadata": {},
   "outputs": [
    {
     "data": {
      "text/plain": [
       "Toxicity\n",
       "0    6241\n",
       "1     759\n",
       "Name: count, dtype: int64"
      ]
     },
     "execution_count": 96,
     "metadata": {},
     "output_type": "execute_result"
    }
   ],
   "source": [
    "train2.Toxicity.value_counts()"
   ]
  },
  {
   "cell_type": "code",
   "execution_count": 97,
   "id": "d6f38e6e",
   "metadata": {},
   "outputs": [
    {
     "data": {
      "text/plain": [
       "Topic\n",
       "GiaiTri      17.464789\n",
       "GiaoDuc      16.453901\n",
       "KhoaHoc       3.239437\n",
       "KinhDoanh     5.857143\n",
       "OtoXemay      6.821480\n",
       "PhapLuat     36.000000\n",
       "SucKhoe       4.329609\n",
       "TheGioi       8.625731\n",
       "TheThao       8.308605\n",
       "ThoiSu        1.404494\n",
       "Name: Toxicity, dtype: float64"
      ]
     },
     "execution_count": 97,
     "metadata": {},
     "output_type": "execute_result"
    }
   ],
   "source": [
    "train2.groupby('Topic').Toxicity.apply(lambda x: x.sum() / x.count() * 100)"
   ]
  },
  {
   "cell_type": "markdown",
   "id": "33731ec9",
   "metadata": {},
   "source": [
    "## 2.2. Filtering"
   ]
  },
  {
   "cell_type": "code",
   "execution_count": 98,
   "id": "07ccbb06",
   "metadata": {},
   "outputs": [],
   "source": [
    "train2 = train2[['Comment', 'Toxicity']]\n",
    "valid2 = valid2[['Comment', 'Toxicity']]\n",
    "test2 = test2[['Comment', 'Toxicity']]\n",
    "\n",
    "train2.columns = valid2.columns = test2.columns = target_fields"
   ]
  },
  {
   "cell_type": "markdown",
   "id": "9a01f5e5",
   "metadata": {},
   "source": [
    "## 2.3. Saving"
   ]
  },
  {
   "cell_type": "code",
   "execution_count": 99,
   "id": "896ca2df",
   "metadata": {},
   "outputs": [],
   "source": [
    "train2.to_csv('data/huggingface/ViCTSD/train.csv', index=False, mode='w')\n",
    "valid2.to_csv('data/huggingface/ViCTSD/valid.csv', index=False, mode='w')\n",
    "test2.to_csv('data/huggingface/ViCTSD/test.csv', index=False, mode='w')"
   ]
  },
  {
   "cell_type": "code",
   "execution_count": 178,
   "id": "64e11077",
   "metadata": {},
   "outputs": [],
   "source": [
    "train2.to_csv('data/train.csv', index=False, header=False, mode='a')\n",
    "valid2.to_csv('data/valid.csv', index=False, header=False, mode='a')\n",
    "test2.to_csv('data/test.csv', index=False, header=False, mode='a')"
   ]
  },
  {
   "cell_type": "markdown",
   "id": "60307b52",
   "metadata": {},
   "source": [
    "# 3. Load vietnamese-social-comments"
   ]
  },
  {
   "cell_type": "code",
   "execution_count": 103,
   "id": "d50af827",
   "metadata": {},
   "outputs": [],
   "source": [
    "from datasets import load_dataset\n",
    "\n",
    "# Login using e.g. `huggingface-cli login` to access this dataset\n",
    "ds3 = load_dataset(\"vanhai123/vietnamese-social-comments\")"
   ]
  },
  {
   "cell_type": "code",
   "execution_count": 104,
   "id": "ac54b4bf",
   "metadata": {},
   "outputs": [],
   "source": [
    "train3 = ds3['train'].to_pandas()"
   ]
  },
  {
   "cell_type": "markdown",
   "id": "a8eded7b",
   "metadata": {},
   "source": [
    "## 3.1. Data exploration"
   ]
  },
  {
   "cell_type": "code",
   "execution_count": 105,
   "id": "8255a000",
   "metadata": {},
   "outputs": [
    {
     "data": {
      "text/html": [
       "<div>\n",
       "<style scoped>\n",
       "    .dataframe tbody tr th:only-of-type {\n",
       "        vertical-align: middle;\n",
       "    }\n",
       "\n",
       "    .dataframe tbody tr th {\n",
       "        vertical-align: top;\n",
       "    }\n",
       "\n",
       "    .dataframe thead th {\n",
       "        text-align: right;\n",
       "    }\n",
       "</style>\n",
       "<table border=\"1\" class=\"dataframe\">\n",
       "  <thead>\n",
       "    <tr style=\"text-align: right;\">\n",
       "      <th></th>\n",
       "      <th>comment</th>\n",
       "      <th>label</th>\n",
       "      <th>category</th>\n",
       "    </tr>\n",
       "  </thead>\n",
       "  <tbody>\n",
       "    <tr>\n",
       "      <th>0</th>\n",
       "      <td>Video này hay quá! Cảm ơn bạn đã chia sẻ</td>\n",
       "      <td>positive</td>\n",
       "      <td>compliment</td>\n",
       "    </tr>\n",
       "    <tr>\n",
       "      <th>1</th>\n",
       "      <td>Chúc mừng bạn nhé! Thật sự rất tuyệt vời</td>\n",
       "      <td>positive</td>\n",
       "      <td>congratulation</td>\n",
       "    </tr>\n",
       "    <tr>\n",
       "      <th>2</th>\n",
       "      <td>Bài viết rất bổ ích, tôi đã học được nhiều điều</td>\n",
       "      <td>positive</td>\n",
       "      <td>appreciation</td>\n",
       "    </tr>\n",
       "    <tr>\n",
       "      <th>3</th>\n",
       "      <td>Tôi rất thích phong cách của bạn</td>\n",
       "      <td>positive</td>\n",
       "      <td>compliment</td>\n",
       "    </tr>\n",
       "    <tr>\n",
       "      <th>4</th>\n",
       "      <td>Cảm ơn bạn rất nhiều vì đã giúp đỡ</td>\n",
       "      <td>positive</td>\n",
       "      <td>gratitude</td>\n",
       "    </tr>\n",
       "  </tbody>\n",
       "</table>\n",
       "</div>"
      ],
      "text/plain": [
       "                                           comment     label        category\n",
       "0         Video này hay quá! Cảm ơn bạn đã chia sẻ  positive      compliment\n",
       "1         Chúc mừng bạn nhé! Thật sự rất tuyệt vời  positive  congratulation\n",
       "2  Bài viết rất bổ ích, tôi đã học được nhiều điều  positive    appreciation\n",
       "3                 Tôi rất thích phong cách của bạn  positive      compliment\n",
       "4               Cảm ơn bạn rất nhiều vì đã giúp đỡ  positive       gratitude"
      ]
     },
     "execution_count": 105,
     "metadata": {},
     "output_type": "execute_result"
    }
   ],
   "source": [
    "train3.head()"
   ]
  },
  {
   "cell_type": "code",
   "execution_count": 106,
   "id": "7b8361a9",
   "metadata": {},
   "outputs": [
    {
     "data": {
      "text/plain": [
       "False"
      ]
     },
     "execution_count": 106,
     "metadata": {},
     "output_type": "execute_result"
    }
   ],
   "source": [
    "check_na(train3)"
   ]
  },
  {
   "cell_type": "code",
   "execution_count": 107,
   "id": "1eb6bcd5",
   "metadata": {},
   "outputs": [
    {
     "data": {
      "text/plain": [
       "label\n",
       "positive    1432\n",
       "toxic       1274\n",
       "negative    1187\n",
       "neutral     1003\n",
       "Name: count, dtype: int64"
      ]
     },
     "execution_count": 107,
     "metadata": {},
     "output_type": "execute_result"
    }
   ],
   "source": [
    "train3.label.value_counts()"
   ]
  },
  {
   "cell_type": "code",
   "execution_count": 108,
   "id": "e501825e",
   "metadata": {},
   "outputs": [
    {
     "data": {
      "text/html": [
       "<div>\n",
       "<style scoped>\n",
       "    .dataframe tbody tr th:only-of-type {\n",
       "        vertical-align: middle;\n",
       "    }\n",
       "\n",
       "    .dataframe tbody tr th {\n",
       "        vertical-align: top;\n",
       "    }\n",
       "\n",
       "    .dataframe thead th {\n",
       "        text-align: right;\n",
       "    }\n",
       "</style>\n",
       "<table border=\"1\" class=\"dataframe\">\n",
       "  <thead>\n",
       "    <tr style=\"text-align: right;\">\n",
       "      <th></th>\n",
       "      <th>label</th>\n",
       "    </tr>\n",
       "    <tr>\n",
       "      <th>label</th>\n",
       "      <th></th>\n",
       "    </tr>\n",
       "  </thead>\n",
       "  <tbody>\n",
       "    <tr>\n",
       "      <th>positive</th>\n",
       "      <td>29.248366</td>\n",
       "    </tr>\n",
       "    <tr>\n",
       "      <th>toxic</th>\n",
       "      <td>26.021242</td>\n",
       "    </tr>\n",
       "    <tr>\n",
       "      <th>negative</th>\n",
       "      <td>24.244281</td>\n",
       "    </tr>\n",
       "    <tr>\n",
       "      <th>neutral</th>\n",
       "      <td>20.486111</td>\n",
       "    </tr>\n",
       "  </tbody>\n",
       "</table>\n",
       "</div>"
      ],
      "text/plain": [
       "              label\n",
       "label              \n",
       "positive  29.248366\n",
       "toxic     26.021242\n",
       "negative  24.244281\n",
       "neutral   20.486111"
      ]
     },
     "execution_count": 108,
     "metadata": {},
     "output_type": "execute_result"
    }
   ],
   "source": [
    "train3[['label']].apply(lambda x: x.value_counts(normalize=True)) * 100"
   ]
  },
  {
   "cell_type": "markdown",
   "id": "69577a63",
   "metadata": {},
   "source": [
    "## 3.2. Labeling 0 / 1"
   ]
  },
  {
   "cell_type": "code",
   "execution_count": 109,
   "id": "98752359",
   "metadata": {},
   "outputs": [],
   "source": [
    "train3['toxic'] = (train3.label == 'toxic').astype('int')"
   ]
  },
  {
   "cell_type": "markdown",
   "id": "d8b2928d",
   "metadata": {},
   "source": [
    "## 3.3. Filtering"
   ]
  },
  {
   "cell_type": "code",
   "execution_count": 110,
   "id": "20435d80",
   "metadata": {},
   "outputs": [],
   "source": [
    "train3 = train3[['comment', 'toxic']]\n",
    "\n",
    "train3.columns = target_fields"
   ]
  },
  {
   "cell_type": "markdown",
   "id": "7fcb76bd",
   "metadata": {},
   "source": [
    "## 3.4. Splitting"
   ]
  },
  {
   "cell_type": "code",
   "execution_count": 111,
   "id": "cab241db",
   "metadata": {},
   "outputs": [],
   "source": [
    "from sklearn.model_selection import train_test_split\n",
    "\n",
    "train3, test3 = train_test_split(train3, test_size=0.2, random_state=42, shuffle=True)\n",
    "train3, valid3 = train_test_split(train3, test_size=0.1, random_state=42, shuffle=True)"
   ]
  },
  {
   "cell_type": "markdown",
   "id": "c3f48a1a",
   "metadata": {},
   "source": [
    "## 3.5. Saving"
   ]
  },
  {
   "cell_type": "code",
   "execution_count": 113,
   "id": "76fe4493",
   "metadata": {},
   "outputs": [],
   "source": [
    "train3.to_csv('data/huggingface/vietnamese-social-comments/train.csv', index=False, mode='w')\n",
    "train3.to_csv('data/huggingface/vietnamese-social-comments/valid.csv', index=False, mode='w')\n",
    "train3.to_csv('data/huggingface/vietnamese-social-comments/test.csv', index=False, mode='w')"
   ]
  },
  {
   "cell_type": "code",
   "execution_count": 179,
   "id": "e46deb40",
   "metadata": {},
   "outputs": [],
   "source": [
    "train2.to_csv('data/train.csv', index=False, header=False, mode='a')\n",
    "valid2.to_csv('data/valid.csv', index=False, header=False, mode='a')\n",
    "test2.to_csv('data/test.csv', index=False, header=False, mode='a')"
   ]
  },
  {
   "cell_type": "markdown",
   "id": "e33d635c",
   "metadata": {},
   "source": [
    "# 4. Load ViHSD"
   ]
  },
  {
   "cell_type": "markdown",
   "id": "ce807fd3",
   "metadata": {},
   "source": [
    "##"
   ]
  },
  {
   "cell_type": "code",
   "execution_count": 115,
   "id": "50904ab7",
   "metadata": {},
   "outputs": [],
   "source": [
    "from datasets import load_dataset\n",
    "\n",
    "ds4 = load_dataset(\"htdung167/ViHSD\")"
   ]
  },
  {
   "cell_type": "code",
   "execution_count": 116,
   "id": "62273dad",
   "metadata": {},
   "outputs": [],
   "source": [
    "train4, test4, valid4 = ds4['train'].to_pandas(), ds4['test'].to_pandas(), ds4['validation'].to_pandas()"
   ]
  },
  {
   "cell_type": "code",
   "execution_count": 190,
   "id": "81bfadb8",
   "metadata": {},
   "outputs": [
    {
     "data": {
      "text/plain": [
       "(24046, 2672, 6680)"
      ]
     },
     "execution_count": 190,
     "metadata": {},
     "output_type": "execute_result"
    }
   ],
   "source": [
    "train4.shape[0], valid4.shape[0], test4.shape[0]"
   ]
  },
  {
   "cell_type": "markdown",
   "id": "dc6d3c86",
   "metadata": {},
   "source": [
    "## 4.1. Data exploration"
   ]
  },
  {
   "cell_type": "code",
   "execution_count": 117,
   "id": "fc49f68f",
   "metadata": {},
   "outputs": [
    {
     "data": {
      "text/html": [
       "<div>\n",
       "<style scoped>\n",
       "    .dataframe tbody tr th:only-of-type {\n",
       "        vertical-align: middle;\n",
       "    }\n",
       "\n",
       "    .dataframe tbody tr th {\n",
       "        vertical-align: top;\n",
       "    }\n",
       "\n",
       "    .dataframe thead th {\n",
       "        text-align: right;\n",
       "    }\n",
       "</style>\n",
       "<table border=\"1\" class=\"dataframe\">\n",
       "  <thead>\n",
       "    <tr style=\"text-align: right;\">\n",
       "      <th></th>\n",
       "      <th>free_text</th>\n",
       "      <th>label_id</th>\n",
       "    </tr>\n",
       "  </thead>\n",
       "  <tbody>\n",
       "    <tr>\n",
       "      <th>0</th>\n",
       "      <td>Em được làm fan cứng luôn rồi nè ❤️ reaction q...</td>\n",
       "      <td>0</td>\n",
       "    </tr>\n",
       "    <tr>\n",
       "      <th>1</th>\n",
       "      <td>Đúng là bọn mắt híp lò xo thụt :))) bên việt n...</td>\n",
       "      <td>2</td>\n",
       "    </tr>\n",
       "    <tr>\n",
       "      <th>2</th>\n",
       "      <td>Đậu Văn Cường giờ giống thằng sida hơn à</td>\n",
       "      <td>0</td>\n",
       "    </tr>\n",
       "    <tr>\n",
       "      <th>3</th>\n",
       "      <td>CÔN ĐỒ CỤC SÚC VÔ NHÂN TÍNH ĐỀ NGHI VN. NHÀ NƯ...</td>\n",
       "      <td>2</td>\n",
       "    </tr>\n",
       "    <tr>\n",
       "      <th>4</th>\n",
       "      <td>Từ lý thuyết đến thực hành là cả 1 câu chuyện ...</td>\n",
       "      <td>0</td>\n",
       "    </tr>\n",
       "  </tbody>\n",
       "</table>\n",
       "</div>"
      ],
      "text/plain": [
       "                                           free_text  label_id\n",
       "0  Em được làm fan cứng luôn rồi nè ❤️ reaction q...         0\n",
       "1  Đúng là bọn mắt híp lò xo thụt :))) bên việt n...         2\n",
       "2           Đậu Văn Cường giờ giống thằng sida hơn à         0\n",
       "3  CÔN ĐỒ CỤC SÚC VÔ NHÂN TÍNH ĐỀ NGHI VN. NHÀ NƯ...         2\n",
       "4  Từ lý thuyết đến thực hành là cả 1 câu chuyện ...         0"
      ]
     },
     "execution_count": 117,
     "metadata": {},
     "output_type": "execute_result"
    }
   ],
   "source": [
    "train4.head()"
   ]
  },
  {
   "cell_type": "code",
   "execution_count": 118,
   "id": "d053a255",
   "metadata": {},
   "outputs": [
    {
     "data": {
      "text/plain": [
       "(True, False, False)"
      ]
     },
     "execution_count": 118,
     "metadata": {},
     "output_type": "execute_result"
    }
   ],
   "source": [
    "check_na(train4), check_na(valid4), check_na(test4)"
   ]
  },
  {
   "cell_type": "code",
   "execution_count": 119,
   "id": "e972742f",
   "metadata": {},
   "outputs": [
    {
     "data": {
      "text/plain": [
       "free_text    2\n",
       "label_id     0\n",
       "dtype: int64"
      ]
     },
     "execution_count": 119,
     "metadata": {},
     "output_type": "execute_result"
    }
   ],
   "source": [
    "train4.isna().sum()"
   ]
  },
  {
   "cell_type": "code",
   "execution_count": 120,
   "id": "4cf21f1e",
   "metadata": {},
   "outputs": [],
   "source": [
    "train4 = train4.dropna()"
   ]
  },
  {
   "cell_type": "code",
   "execution_count": 121,
   "id": "22961e26",
   "metadata": {},
   "outputs": [
    {
     "data": {
      "text/plain": [
       "label_id\n",
       "0    82.695667\n",
       "2    10.629627\n",
       "1     6.674707\n",
       "Name: count, dtype: float64"
      ]
     },
     "execution_count": 121,
     "metadata": {},
     "output_type": "execute_result"
    }
   ],
   "source": [
    "train4.label_id.value_counts() / train4.shape[0] * 100"
   ]
  },
  {
   "cell_type": "markdown",
   "id": "bc56ca63",
   "metadata": {},
   "source": [
    "## 4.2. Labeling 0 / 1"
   ]
  },
  {
   "cell_type": "code",
   "execution_count": 122,
   "id": "71d69b33",
   "metadata": {},
   "outputs": [],
   "source": [
    "mapping = {0: 0, 1: 1, 2 : 1}\n",
    "\n",
    "train4.label_id = train4.label_id.map(mapping)\n",
    "valid4.label_id = valid4.label_id.map(mapping)\n",
    "test4.label_id = test4.label_id.map(mapping)"
   ]
  },
  {
   "cell_type": "markdown",
   "id": "c662a606",
   "metadata": {},
   "source": [
    "## 4.3. Rename"
   ]
  },
  {
   "cell_type": "code",
   "execution_count": 123,
   "id": "b2253cc2",
   "metadata": {},
   "outputs": [],
   "source": [
    "train4.columns = target_fields\n",
    "valid4.columns = target_fields\n",
    "test4.columns = target_fields"
   ]
  },
  {
   "cell_type": "markdown",
   "id": "6ca4e4d2",
   "metadata": {},
   "source": [
    "## 4.4. Saving"
   ]
  },
  {
   "cell_type": "code",
   "execution_count": 124,
   "id": "e22f3425",
   "metadata": {},
   "outputs": [],
   "source": [
    "train4.to_csv('data/huggingface/ViHSD/train.csv', index=False, mode='w')\n",
    "valid4.to_csv('data/huggingface/ViHSD/valid.csv', index=False, mode='w')\n",
    "test4.to_csv('data/huggingface/ViHSD/test.csv', index=False, mode='w')"
   ]
  },
  {
   "cell_type": "code",
   "execution_count": 180,
   "id": "c2a16601",
   "metadata": {},
   "outputs": [],
   "source": [
    "train4.to_csv('data/train.csv', index=False, header=False, mode='a')\n",
    "valid4.to_csv('data/valid.csv', index=False, header=False, mode='a')\n",
    "test4.to_csv('data/test.csv', index=False, header=False, mode='a')"
   ]
  },
  {
   "cell_type": "markdown",
   "id": "01bb75c0",
   "metadata": {},
   "source": [
    "## 5. Crawl"
   ]
  },
  {
   "cell_type": "markdown",
   "id": "45e2b041",
   "metadata": {},
   "source": [
    "Source:\n",
    "- https://www.reddit.com/r/VietNamNation/comments/1my2y2z/review_phim_m%C6%B0a_%C4%91%E1%BB%8F_c%E1%BB%A7a_b%C3%B2_%C4%91%E1%BB%8F_l%C3%A0m/\n",
    "- https://tinhte.vn/thread/review-phim-mua-do.4051064/\n",
    "- https://www.facebook.com/cuongphimreview/posts/quick-review-m%C6%B0a-%C4%91%E1%BB%8F-kh%C3%B3c-%C4%91%E1%BB%A7-124-ph%C3%BAt-phim-t%E1%BB%B1-h%C3%A0o-qu%C3%A1-vi%E1%BB%87t-nam-%C6%A1i-/843161544897675/"
   ]
  },
  {
   "cell_type": "markdown",
   "id": "034cd453",
   "metadata": {},
   "source": [
    "## 5.1. VN Express"
   ]
  },
  {
   "cell_type": "code",
   "execution_count": 126,
   "id": "abeba684",
   "metadata": {},
   "outputs": [],
   "source": [
    "vnexpress_sources = [\n",
    "    'https://vnexpress.net/giai-tri/phim/thu-vien-phim/mua-do-830',\n",
    "    'https://vnexpress.net/tinh-tiet-phim-mua-do-vap-phan-ung-4939283.html',\n",
    "    'https://vnexpress.net/mua-do-tranh-giai-oscar-2026-4945632.html',\n",
    "    'https://vnexpress.net/hon-8-trieu-luot-khan-gia-xem-mua-do-4944569.html',\n",
    "    'https://vnexpress.net/steven-nguyen-lam-soat-ve-truoc-khi-dong-mua-do-4937024.html',\n",
    "    'https://vnexpress.net/buc-anh-nu-cuoi-nguoi-linh-thanh-co-quang-tri-gay-xuc-dong-4935986.html',\n",
    "    'https://vnexpress.net/ly-do-phim-mua-do-gay-sot-4933949.html'\n",
    "]"
   ]
  },
  {
   "cell_type": "code",
   "execution_count": 127,
   "id": "b76359c5",
   "metadata": {},
   "outputs": [],
   "source": [
    "from selenium import webdriver\n",
    "from selenium.webdriver.chrome.service import Service\n",
    "from webdriver_manager.chrome import ChromeDriverManager\n",
    "from selenium.webdriver.common.by import By\n",
    "from selenium.webdriver.support.ui import WebDriverWait\n",
    "from selenium.webdriver.support import expected_conditions as EC\n",
    "import time\n",
    "\n",
    "def crawl_comment_vnexpress(src):\n",
    "    options = webdriver.ChromeOptions()\n",
    "    options.add_argument(\"--headless=new\")\n",
    "    options.add_argument(\"--no-sandbox\")\n",
    "    options.add_argument(\"--disable-dev-shm-usage\")\n",
    "    driver = webdriver.Chrome(service=Service(ChromeDriverManager().install()), options=options)\n",
    "\n",
    "    driver.get(src)\n",
    "    time.sleep(2)\n",
    "\n",
    "    wait = WebDriverWait(driver, 5)\n",
    "\n",
    "    # --- click nút \"Xem thêm\" đến khi không còn ---\n",
    "    while True:\n",
    "        try:\n",
    "            btn = wait.until(EC.element_to_be_clickable((By.CSS_SELECTOR, \"#show_more_coment\")))\n",
    "            driver.execute_script(\"arguments[0].click();\", btn)  # click bằng JS để chắc ăn\n",
    "            time.sleep(1.5)\n",
    "        except:\n",
    "            break\n",
    "\n",
    "    # --- Click tất cả các nút view all reply ---\n",
    "    while True:\n",
    "        try:\n",
    "            btns = driver.find_elements(By.CSS_SELECTOR, \"#box_comment .view_all_reply\")\n",
    "            if not btns:\n",
    "                break\n",
    "            for b in btns:\n",
    "                try:\n",
    "                    driver.execute_script(\"arguments[0].click();\", b)\n",
    "                    time.sleep(0.5)\n",
    "                except:\n",
    "                    continue\n",
    "        except:\n",
    "            break\n",
    "\n",
    "    # --- click \"Đọc tiếp\" (mở rộng comment dài) ---\n",
    "    more_btns = driver.find_elements(By.CSS_SELECTOR, \"#box_comment .continue-reading\")\n",
    "    for b in more_btns:\n",
    "        try:\n",
    "            driver.execute_script(\"arguments[0].click();\", b)\n",
    "            time.sleep(0.2)\n",
    "        except:\n",
    "            continue\n",
    "\n",
    "    # --- lấy toàn bộ comment ---\n",
    "    selector = \"#box_comment .full_content, #box_comment .content_more\"\n",
    "    elems = driver.find_elements(By.CSS_SELECTOR, selector)\n",
    "\n",
    "    rows = []\n",
    "    for i, e in enumerate(elems, 1):\n",
    "        # text đầy đủ (gồm cả tên + comment)\n",
    "        full_text = e.text.strip()\n",
    "        # thử lấy tên trong span\n",
    "        try:\n",
    "            name = e.find_element(By.CSS_SELECTOR, \".txt-name\").text.strip()\n",
    "        except:\n",
    "            name = \"\"\n",
    "        # comment = full_text bỏ đi name\n",
    "        comment = full_text.replace(name, \"\", 1).strip()\n",
    "\n",
    "        rows.append(comment)\n",
    "\n",
    "    driver.quit()\n",
    "    return rows"
   ]
  },
  {
   "cell_type": "code",
   "execution_count": 128,
   "id": "87ccc29d",
   "metadata": {},
   "outputs": [
    {
     "name": "stdout",
     "output_type": "stream",
     "text": [
      "crawling src 1: https://vnexpress.net/giai-tri/phim/thu-vien-phim/mua-do-830\n",
      "crawling src 2: https://vnexpress.net/tinh-tiet-phim-mua-do-vap-phan-ung-4939283.html\n",
      "crawling src 3: https://vnexpress.net/mua-do-tranh-giai-oscar-2026-4945632.html\n",
      "crawling src 4: https://vnexpress.net/hon-8-trieu-luot-khan-gia-xem-mua-do-4944569.html\n",
      "crawling src 5: https://vnexpress.net/steven-nguyen-lam-soat-ve-truoc-khi-dong-mua-do-4937024.html\n",
      "crawling src 6: https://vnexpress.net/buc-anh-nu-cuoi-nguoi-linh-thanh-co-quang-tri-gay-xuc-dong-4935986.html\n",
      "crawling src 7: https://vnexpress.net/ly-do-phim-mua-do-gay-sot-4933949.html\n"
     ]
    }
   ],
   "source": [
    "vnexpress_corpus = []\n",
    "for i, src in enumerate(vnexpress_sources):\n",
    "    print(f'crawling src {i+1}: {src}')\n",
    "    vnexpress_corpus += crawl_comment_vnexpress(src)"
   ]
  },
  {
   "cell_type": "code",
   "execution_count": 129,
   "id": "b583847d",
   "metadata": {},
   "outputs": [],
   "source": [
    "vnexpress_corpus = pd.DataFrame(vnexpress_corpus, columns=['content'])\n",
    "vnexpress_corpus.to_csv('data/crawl/crawl.csv', mode='w', index=False)\n",
    "vnexpress_corpus.to_csv('data/crawl/vnexpress.csv', mode='w', index=False)"
   ]
  },
  {
   "cell_type": "markdown",
   "id": "80ae1c29",
   "metadata": {},
   "source": [
    "## 5.2. Reddit"
   ]
  },
  {
   "cell_type": "code",
   "execution_count": 130,
   "id": "c1896fea",
   "metadata": {},
   "outputs": [],
   "source": [
    "reddit_sources = [\n",
    "    'https://www.reddit.com/r/VietNamNation/comments/1my2y2z/review_phim_m%C6%B0a_%C4%91%E1%BB%8F_c%E1%BB%A7a_b%C3%B2_%C4%91%E1%BB%8F_l%C3%A0m/.json',\n",
    "    'https://www.reddit.com/r/VietNamNation/comments/1n3yg7m/b%C3%A0i_vi%E1%BA%BFt_b%C3%ACnh_lu%E1%BA%ADn_v%E1%BB%81_phim_m%C6%B0a_%C4%91%E1%BB%8F/.json',\n",
    "    'https://www.reddit.com/r/TroChuyenLinhTinh/comments/1nbg54q/tôi_xem_để_bạn_khỏi_phải_xem_review_mưa_đỏ/.json',\n",
    "    'https://www.reddit.com/r/VietNamNation/comments/1neu069/1_b%E1%BA%A1n_b%C3%B2_%C4%91%E1%BB%8F_n%C3%B3i_v%E1%BB%81_m%C6%B0a_%C4%91%E1%BB%8F_ch%E1%BB%A7a_l%E1%BB%99t_t%E1%BA%A3_h%E1%BA%BFt_t%E1%BB%99i_%C3%A1c/.json',\n",
    "    'https://www.reddit.com/r/VietNamNation/comments/1n2vzpa/tao_ra_r%E1%BB%93i_t%E1%BB%A5i_m%C3%A0y_%C6%A1i_phim_m%C6%B0a_%C4%91%E1%BB%8F_v%C6%B0%E1%BB%A3t_m%E1%BA%B7t_si%C3%AAu/.json',\n",
    "    'https://www.reddit.com/r/VietNamNation/comments/1nes3ea/m%C6%B0a_%C4%91%E1%BB%8F_s%E1%BB%B1_th%E1%BA%ADt_b%E1%BB%8B_b%C3%B3p_m%C3%A9o/.json',\n",
    "]"
   ]
  },
  {
   "cell_type": "code",
   "execution_count": 131,
   "id": "37e3b2b5",
   "metadata": {},
   "outputs": [],
   "source": [
    "import requests\n",
    "\n",
    "url = \"https://www.reddit.com/r/VietNamNation/comments/1my2y2z/review_phim_m%C6%B0a_%C4%91%E1%BB%8F_c%E1%BB%A7a_b%C3%B2_%C4%91%E1%BB%8F_l%C3%A0m/.json\"\n",
    "headers = {\"User-Agent\": \"Mozilla/5.0 (Windows NT 10.0; Win64; x64) AppleWebKit/537.36 (KHTML, like Gecko) Chrome/100.0.4896.127 Safari/537.36\"}\n",
    "raw = requests.get(url, headers=headers).json()\n",
    "\n",
    "def parse_comments(children, comments=[]):\n",
    "    for c in children:\n",
    "        if c[\"kind\"] != \"t1\":  # t1 = comment\n",
    "            continue\n",
    "        body = c[\"data\"].get(\"body\")\n",
    "        if body:\n",
    "            yield body\n",
    "        \n",
    "        replies = c[\"data\"].get(\"replies\")\n",
    "        if replies and isinstance(replies, dict):\n",
    "            yield from parse_comments(replies[\"data\"][\"children\"], comments)\n",
    "\n",
    "def crawl_comment_reddit(src):\n",
    "    headers = {\"User-Agent\": \"Mozilla/5.0 (Windows NT 10.0; Win64; x64) AppleWebKit/537.36 (KHTML, like Gecko) Chrome/100.0.4896.127 Safari/537.36\"}\n",
    "    raw = requests.get(src, headers=headers).json()\n",
    "\n",
    "    return parse_comments(raw[1][\"data\"][\"children\"])"
   ]
  },
  {
   "cell_type": "code",
   "execution_count": 132,
   "id": "7b415e95",
   "metadata": {},
   "outputs": [
    {
     "name": "stdout",
     "output_type": "stream",
     "text": [
      "crawling src 1: https://www.reddit.com/r/VietNamNation/comments/1my2y2z/review_phim_m%C6%B0a_%C4%91%E1%BB%8F_c%E1%BB%A7a_b%C3%B2_%C4%91%E1%BB%8F_l%C3%A0m/.json\n",
      "crawling src 2: https://www.reddit.com/r/VietNamNation/comments/1n3yg7m/b%C3%A0i_vi%E1%BA%BFt_b%C3%ACnh_lu%E1%BA%ADn_v%E1%BB%81_phim_m%C6%B0a_%C4%91%E1%BB%8F/.json\n",
      "crawling src 3: https://www.reddit.com/r/TroChuyenLinhTinh/comments/1nbg54q/tôi_xem_để_bạn_khỏi_phải_xem_review_mưa_đỏ/.json\n",
      "crawling src 4: https://www.reddit.com/r/VietNamNation/comments/1neu069/1_b%E1%BA%A1n_b%C3%B2_%C4%91%E1%BB%8F_n%C3%B3i_v%E1%BB%81_m%C6%B0a_%C4%91%E1%BB%8F_ch%E1%BB%A7a_l%E1%BB%99t_t%E1%BA%A3_h%E1%BA%BFt_t%E1%BB%99i_%C3%A1c/.json\n",
      "crawling src 5: https://www.reddit.com/r/VietNamNation/comments/1n2vzpa/tao_ra_r%E1%BB%93i_t%E1%BB%A5i_m%C3%A0y_%C6%A1i_phim_m%C6%B0a_%C4%91%E1%BB%8F_v%C6%B0%E1%BB%A3t_m%E1%BA%B7t_si%C3%AAu/.json\n",
      "crawling src 6: https://www.reddit.com/r/VietNamNation/comments/1nes3ea/m%C6%B0a_%C4%91%E1%BB%8F_s%E1%BB%B1_th%E1%BA%ADt_b%E1%BB%8B_b%C3%B3p_m%C3%A9o/.json\n"
     ]
    }
   ],
   "source": [
    "reddit_corpus = []\n",
    "for i, src in enumerate(reddit_sources):\n",
    "    print(f'crawling src {i+1}: {src}')\n",
    "    reddit_corpus += crawl_comment_reddit(src)"
   ]
  },
  {
   "cell_type": "code",
   "execution_count": 133,
   "id": "31b092f3",
   "metadata": {},
   "outputs": [],
   "source": [
    "reddit_corpus = pd.DataFrame(reddit_corpus, columns=['content'])\n",
    "reddit_corpus.to_csv('data/crawl/crawl.csv', mode='a', index=False, header=False)\n",
    "reddit_corpus.to_csv('data/crawl/reddit.csv', mode='w', index=False)"
   ]
  },
  {
   "cell_type": "markdown",
   "id": "44c686c0",
   "metadata": {},
   "source": [
    "## 5.3. Facebook"
   ]
  },
  {
   "cell_type": "markdown",
   "id": "9f051e39",
   "metadata": {},
   "source": [
    "used apify"
   ]
  },
  {
   "cell_type": "code",
   "execution_count": 135,
   "id": "38202a7e",
   "metadata": {},
   "outputs": [],
   "source": [
    "import pandas as pd\n",
    "\n",
    "files = [\n",
    "    'data/crawl/dataset_facebook-comments-scraper_2025-10-03_02-49-45-712.csv',\n",
    "    'data/crawl/dataset_facebook-comments-scraper_2025-10-03_03-10-41-614.csv'\n",
    "]\n",
    "\n",
    "facebook_corpus = pd.concat([pd.read_csv(file) for file in files], ignore_index=True)"
   ]
  },
  {
   "cell_type": "code",
   "execution_count": 136,
   "id": "968a360f",
   "metadata": {},
   "outputs": [],
   "source": [
    "facebook_corpus.columns = ['content']"
   ]
  },
  {
   "cell_type": "code",
   "execution_count": 137,
   "id": "8624842f",
   "metadata": {},
   "outputs": [],
   "source": [
    "facebook_corpus.to_csv('data/crawl/crawl.csv', mode='a', index=False, header=False)\n",
    "facebook_corpus.to_csv('data/crawl/facebook.csv', mode='w', index=False)"
   ]
  },
  {
   "cell_type": "markdown",
   "id": "290ad071",
   "metadata": {},
   "source": [
    "## 5.4. Auto labeling"
   ]
  },
  {
   "cell_type": "code",
   "execution_count": null,
   "id": "68acbdec",
   "metadata": {},
   "outputs": [],
   "source": [
    "import pandas as pd\n",
    "crawled_corpus = pd.read_csv('data/crawl/crawl.csv', header=None, names=['content'])"
   ]
  },
  {
   "cell_type": "code",
   "execution_count": null,
   "id": "8c42ce1c",
   "metadata": {},
   "outputs": [
    {
     "name": "stderr",
     "output_type": "stream",
     "text": [
      "Predicting: 100%|██████████| 3201/3201 [02:42<00:00, 19.70it/s]\n"
     ]
    }
   ],
   "source": [
    "from transformers import AutoTokenizer, AutoModelForSequenceClassification\n",
    "import torch\n",
    "import torch.nn.functional as F\n",
    "from tqdm import tqdm\n",
    "\n",
    "model_name = 'naot97/vietnamese-toxicity-detection_1'\n",
    "tokenizer = AutoTokenizer.from_pretrained(model_name)\n",
    "model = AutoModelForSequenceClassification.from_pretrained(model_name)\n",
    "\n",
    "model.to('cuda')\n",
    "model.eval()\n",
    "\n",
    "labels = []\n",
    "\n",
    "with torch.no_grad():\n",
    "    for text in tqdm(crawled_corpus.content, desc='Predicting'):\n",
    "        inputs = tokenizer(text, return_tensors='pt', truncation=True, padding=True, max_length=256).to('cuda')\n",
    "\n",
    "        outputs = model(**inputs)\n",
    "        logits = outputs.logits\n",
    "\n",
    "        probs = F.softmax(logits, dim=-1).squeeze(0)\n",
    "        _, toxicity = probs.detach().cpu().numpy()\n",
    "\n",
    "        if toxicity < 0.1:\n",
    "            labels.append(0)\n",
    "        elif toxicity > 0.9:\n",
    "            labels.append(1)\n",
    "        else:\n",
    "            labels.append(toxicity)\n",
    "\n",
    "crawled_corpus['label'] = labels\n",
    "crawled_corpus.to_csv('data/crawl_labeled/crawl_auto_labeled.csv', index=False)"
   ]
  },
  {
   "cell_type": "markdown",
   "id": "83298e8c",
   "metadata": {},
   "source": [
    "## 5.5. Manual labeling"
   ]
  },
  {
   "cell_type": "code",
   "execution_count": null,
   "id": "bd3cd979",
   "metadata": {},
   "outputs": [],
   "source": [
    "import pandas as pd\n",
    "\n",
    "auto_labeled_corpus = pd.read_csv('data/crawl_labeled/craw_auto_labeled.csv')"
   ]
  },
  {
   "cell_type": "code",
   "execution_count": 23,
   "id": "f22a0543",
   "metadata": {},
   "outputs": [
    {
     "data": {
      "text/plain": [
       "721"
      ]
     },
     "execution_count": 23,
     "metadata": {},
     "output_type": "execute_result"
    }
   ],
   "source": [
    "auto_labeled_corpus.query('0 < label < 1').label.count().item()"
   ]
  },
  {
   "cell_type": "code",
   "execution_count": null,
   "id": "caed919c",
   "metadata": {},
   "outputs": [],
   "source": [
    "## For using label-studio\n",
    "\n",
    "import json\n",
    "\n",
    "tasks = []\n",
    "for _, row in auto_labeled_corpus.query('0 < label < 1').iterrows():\n",
    "    tasks.append({\n",
    "        \"data\": {\n",
    "            \"text\": row[\"content\"],\n",
    "            \"prob\": float(row[\"label\"])\n",
    "        }\n",
    "    })\n",
    "\n",
    "with open(\"data/meta/tasks.json\", \"w\", encoding=\"utf-8\") as f:\n",
    "    json.dump(tasks, f, ensure_ascii=False, indent=2)"
   ]
  },
  {
   "cell_type": "markdown",
   "id": "05b31c8c",
   "metadata": {},
   "source": [
    "### using label-studio:\n",
    "\n",
    "pip install label-studio\n",
    "\n",
    "label-studio start\n",
    "\n",
    "Open http://localhost:8080"
   ]
  },
  {
   "cell_type": "markdown",
   "id": "75c60a6e",
   "metadata": {},
   "source": [
    "## 5.7. Splitting"
   ]
  },
  {
   "cell_type": "code",
   "execution_count": 181,
   "id": "c63ca53b",
   "metadata": {},
   "outputs": [],
   "source": [
    "manual_labeled_corpus = pd.read_csv('data/crawl_labeled/crawl_manual_labeled.csv')\n",
    "\n",
    "manual_labeled_corpus = manual_labeled_corpus[['text', 'sentiment']]\n",
    "manual_labeled_corpus.columns = target_fields\n",
    "\n",
    "manual_labeled_corpus.toxic = manual_labeled_corpus.toxic.astype('int')"
   ]
  },
  {
   "cell_type": "code",
   "execution_count": 182,
   "id": "5c143aec",
   "metadata": {},
   "outputs": [],
   "source": [
    "auto_labeled_corpus = pd.read_csv('data/crawl_labeled/crawl_auto_labeled.csv')\n",
    "\n",
    "auto_labeled_corpus = auto_labeled_corpus.query('label == 0 | label == 1')\n",
    "\n",
    "auto_labeled_corpus.columns = target_fields\n",
    "\n",
    "auto_labeled_corpus.toxic = auto_labeled_corpus.toxic.astype('int')"
   ]
  },
  {
   "cell_type": "code",
   "execution_count": 183,
   "id": "cb297cca",
   "metadata": {},
   "outputs": [],
   "source": [
    "train_crawled = pd.concat([auto_labeled_corpus, manual_labeled_corpus], ignore_index=True)"
   ]
  },
  {
   "cell_type": "code",
   "execution_count": null,
   "id": "9307d932",
   "metadata": {},
   "outputs": [],
   "source": [
    "train_crawled, test_crawled = train_test_split(train_crawled, test_size=0.2, random_state=42, shuffle=True)\n",
    "train_crawled, valid_crawled = train_test_split(train_crawled, test_size=0.1, random_state=42, shuffle=True)"
   ]
  },
  {
   "cell_type": "markdown",
   "id": "05e5a22d",
   "metadata": {},
   "source": [
    "## 5.7. Saving"
   ]
  },
  {
   "cell_type": "code",
   "execution_count": 185,
   "id": "dac6e5d7",
   "metadata": {},
   "outputs": [],
   "source": [
    "train_crawled.to_csv('data/crawl_labeled/train.csv', index=False, mode='w')\n",
    "valid_crawled.to_csv('data/crawl_labeled/valid.csv', index=False, mode='w')\n",
    "test_crawled.to_csv('data/crawl_labeled/test.csv', index=False, mode='w')"
   ]
  },
  {
   "cell_type": "code",
   "execution_count": 186,
   "id": "fe7054a5",
   "metadata": {},
   "outputs": [],
   "source": [
    "train_crawled.to_csv('data/train.csv', index=False, header=False, mode='a')\n",
    "valid_crawled.to_csv('data/valid.csv', index=False, header=False, mode='a')\n",
    "test_crawled.to_csv('data/test.csv', index=False, header=False, mode='a')"
   ]
  },
  {
   "cell_type": "markdown",
   "id": "3fc6f76c",
   "metadata": {},
   "source": [
    "# 6. Generalize"
   ]
  },
  {
   "cell_type": "code",
   "execution_count": 187,
   "id": "6fac67ae",
   "metadata": {},
   "outputs": [],
   "source": [
    "train = pd.read_csv('data/train.csv')\n",
    "valid = pd.read_csv('data/valid.csv')\n",
    "test = pd.read_csv('data/test.csv')"
   ]
  },
  {
   "cell_type": "code",
   "execution_count": 193,
   "id": "69f4a354",
   "metadata": {},
   "outputs": [
    {
     "name": "stdout",
     "output_type": "stream",
     "text": [
      "Total data: 66599\n",
      "Train: 46774 ~ 70.23%\n",
      "Validation: 8065 ~ 12.11%\n",
      "Test: 11760 ~ 17.66%\n"
     ]
    }
   ],
   "source": [
    "n = train.shape[0] + valid.shape[0] + test.shape[0]\n",
    "\n",
    "print(f'Total data: {n}')\n",
    "print(f'Train: {train.shape[0]} ~ {train.shape[0] / n * 100:.2f}%')\n",
    "print(f'Validation: {valid.shape[0]} ~ {valid.shape[0] / n * 100:.2f}%')\n",
    "print(f'Test: {test.shape[0]} ~ {test.shape[0] / n * 100:.2f}%')"
   ]
  },
  {
   "cell_type": "code",
   "execution_count": 201,
   "id": "49aff021",
   "metadata": {},
   "outputs": [
    {
     "data": {
      "image/png": "[encoded data removed]",
      "text/plain": [
       "<Figure size 1200x400 with 3 Axes>"
      ]
     },
     "metadata": {},
     "output_type": "display_data"
    }
   ],
   "source": [
    "import matplotlib.pyplot as plt\n",
    "\n",
    "train_counts = train['toxic'].value_counts(normalize=True) * 100\n",
    "valid_counts = valid['toxic'].value_counts(normalize=True) * 100\n",
    "test_counts  = test['toxic'].value_counts(normalize=True) * 100\n",
    "\n",
    "# Tạo figure với 3 subplot (1 hàng 3 cột)\n",
    "fig, axes = plt.subplots(1, 3, figsize=(12,4), sharey=True)\n",
    "\n",
    "# Train\n",
    "train_counts.plot(kind='bar', ax=axes[0], color='skyblue')\n",
    "axes[0].set_title(\"Train\")\n",
    "axes[0].set_ylabel(\"Percentage (%)\")\n",
    "for i, v in enumerate(train_counts):\n",
    "    axes[0].text(i, v+1, f\"{v:.1f}%\", ha='center')\n",
    "\n",
    "# Valid\n",
    "valid_counts.plot(kind='bar', ax=axes[1], color='lightgreen')\n",
    "axes[1].set_title(\"Valid\")\n",
    "for i, v in enumerate(valid_counts):\n",
    "    axes[1].text(i, v+1, f\"{v:.1f}%\", ha='center')\n",
    "\n",
    "# Test\n",
    "test_counts.plot(kind='bar', ax=axes[2], color='salmon')\n",
    "axes[2].set_title(\"Test\")\n",
    "for i, v in enumerate(test_counts):\n",
    "    axes[2].text(i, v+1, f\"{v:.1f}%\", ha='center')\n",
    "\n",
    "plt.suptitle(\"Label Distribution (Train / Valid / Test)\")\n",
    "plt.tight_layout()\n",
    "plt.show()"
   ]
  }
 ],
 "metadata": {
  "kernelspec": {
   "display_name": "Python 3",
   "language": "python",
   "name": "python3"
  },
  "language_info": {
   "codemirror_mode": {
    "name": "ipython",
    "version": 3
   },
   "file_extension": ".py",
   "mimetype": "text/x-python",
   "name": "python",
   "nbconvert_exporter": "python",
   "pygments_lexer": "ipython3",
   "version": "3.10.11"
  }
 },
 "nbformat": 4,
 "nbformat_minor": 5
}
